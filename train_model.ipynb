{
 "cells": [
  {
   "cell_type": "code",
   "execution_count": 16,
   "metadata": {},
   "outputs": [
    {
     "name": "stderr",
     "output_type": "stream",
     "text": [
      "Intel(R) Extension for Scikit-learn* enabled (https://github.com/intel/scikit-learn-intelex)\n"
     ]
    }
   ],
   "source": [
    "try:\n",
    "  from sklearnex import patch_sklearn # speed up sklearn if cpu is intel\n",
    "  patch_sklearn()\n",
    "except ImportError as sklearnex_not_installed:\n",
    "  print(\"sklearnex not installed, use default sklearn instead\")\n",
    "  print(\"if you want to use sklearn, please refer to https://pypi.org/project/scikit-learn-intelex/\")\n",
    "  \n",
    "\n",
    "from TrainingData import load_KTH\n",
    "import numpy as np\n",
    "from sklearn.model_selection import train_test_split\n",
    "from sklearn import svm, preprocessing\n",
    "from sklearn.pipeline import make_pipeline\n",
    "import pandas as pd"
   ]
  },
  {
   "cell_type": "code",
   "execution_count": 17,
   "metadata": {},
   "outputs": [],
   "source": [
    "training_data = load_KTH()\n",
    "training_data = training_data.apply(lambda row: row[training_data['label'].isin(['walking','running'])])"
   ]
  },
  {
   "cell_type": "code",
   "execution_count": 18,
   "metadata": {},
   "outputs": [],
   "source": [
    "# training_data = load_KTH()\n",
    "# training_data[\"label\"] = training_data[\"label\"].apply(lambda x: \"walking\" if x==\"jogging\" else x)\n",
    "# training_data.groupby(\"label\").count()\n"
   ]
  },
  {
   "attachments": {},
   "cell_type": "markdown",
   "metadata": {},
   "source": [
    "<img src=\"images/Pose Landmark Model.png\"><img>\n",
    "\n",
    "from https://github.com/google/mediapipe/blob/master/docs/solutions/pose.md"
   ]
  },
  {
   "cell_type": "code",
   "execution_count": 19,
   "metadata": {},
   "outputs": [],
   "source": [
    "unneeded_data = [\"filename\", \"label\",'NOSE_x', 'NOSE_y', 'LEFT_EYE_INNER_x', 'LEFT_EYE_INNER_y',\n",
    "       'LEFT_EYE_x', 'LEFT_EYE_y', 'LEFT_EYE_OUTER_x', 'LEFT_EYE_OUTER_y',\n",
    "       'RIGHT_EYE_INNER_x', 'RIGHT_EYE_INNER_y', 'RIGHT_EYE_x', 'RIGHT_EYE_y',\n",
    "       'RIGHT_EYE_OUTER_x', 'RIGHT_EYE_OUTER_y', 'LEFT_EAR_x', 'LEFT_EAR_y',\n",
    "       'RIGHT_EAR_x', 'RIGHT_EAR_y', 'MOUTH_LEFT_x', 'MOUTH_LEFT_y',\n",
    "       'MOUTH_RIGHT_x', 'MOUTH_RIGHT_y','LEFT_PINKY_x', 'LEFT_PINKY_y',\n",
    "       'RIGHT_PINKY_x', 'RIGHT_PINKY_y', 'LEFT_INDEX_x', 'LEFT_INDEX_y',\n",
    "       'RIGHT_INDEX_x', 'RIGHT_INDEX_y', 'LEFT_THUMB_x', 'LEFT_THUMB_y',\n",
    "       'RIGHT_THUMB_x', 'RIGHT_THUMB_y','LEFT_HEEL_x', 'LEFT_HEEL_y',\n",
    "       'RIGHT_HEEL_x', 'RIGHT_HEEL_y', 'LEFT_FOOT_INDEX_x',\n",
    "       'LEFT_FOOT_INDEX_y', 'RIGHT_FOOT_INDEX_x', 'RIGHT_FOOT_INDEX_y',]"
   ]
  },
  {
   "cell_type": "code",
   "execution_count": 20,
   "metadata": {},
   "outputs": [
    {
     "data": {
      "text/html": [
       "<div>\n",
       "<style scoped>\n",
       "    .dataframe tbody tr th:only-of-type {\n",
       "        vertical-align: middle;\n",
       "    }\n",
       "\n",
       "    .dataframe tbody tr th {\n",
       "        vertical-align: top;\n",
       "    }\n",
       "\n",
       "    .dataframe thead th {\n",
       "        text-align: right;\n",
       "    }\n",
       "</style>\n",
       "<table border=\"1\" class=\"dataframe\">\n",
       "  <thead>\n",
       "    <tr style=\"text-align: right;\">\n",
       "      <th></th>\n",
       "      <th>LEFT_SHOULDER_x</th>\n",
       "      <th>LEFT_SHOULDER_y</th>\n",
       "      <th>RIGHT_SHOULDER_x</th>\n",
       "      <th>RIGHT_SHOULDER_y</th>\n",
       "      <th>LEFT_ELBOW_x</th>\n",
       "      <th>LEFT_ELBOW_y</th>\n",
       "      <th>RIGHT_ELBOW_x</th>\n",
       "      <th>RIGHT_ELBOW_y</th>\n",
       "      <th>LEFT_WRIST_x</th>\n",
       "      <th>LEFT_WRIST_y</th>\n",
       "      <th>...</th>\n",
       "      <th>RIGHT_HIP_y</th>\n",
       "      <th>LEFT_KNEE_x</th>\n",
       "      <th>LEFT_KNEE_y</th>\n",
       "      <th>RIGHT_KNEE_x</th>\n",
       "      <th>RIGHT_KNEE_y</th>\n",
       "      <th>LEFT_ANKLE_x</th>\n",
       "      <th>LEFT_ANKLE_y</th>\n",
       "      <th>RIGHT_ANKLE_x</th>\n",
       "      <th>RIGHT_ANKLE_y</th>\n",
       "      <th>Encoded_label</th>\n",
       "    </tr>\n",
       "  </thead>\n",
       "  <tbody>\n",
       "    <tr>\n",
       "      <th>16822</th>\n",
       "      <td>0.949235</td>\n",
       "      <td>0.855545</td>\n",
       "      <td>0.838653</td>\n",
       "      <td>0.848690</td>\n",
       "      <td>1.000000</td>\n",
       "      <td>0.653444</td>\n",
       "      <td>0.834492</td>\n",
       "      <td>0.662607</td>\n",
       "      <td>0.948844</td>\n",
       "      <td>0.482841</td>\n",
       "      <td>...</td>\n",
       "      <td>0.509713</td>\n",
       "      <td>0.420640</td>\n",
       "      <td>0.276058</td>\n",
       "      <td>0.703022</td>\n",
       "      <td>0.276338</td>\n",
       "      <td>0.337730</td>\n",
       "      <td>0.031708</td>\n",
       "      <td>0.767527</td>\n",
       "      <td>0.085185</td>\n",
       "      <td>1</td>\n",
       "    </tr>\n",
       "    <tr>\n",
       "      <th>16823</th>\n",
       "      <td>0.769955</td>\n",
       "      <td>0.856092</td>\n",
       "      <td>0.713916</td>\n",
       "      <td>0.850601</td>\n",
       "      <td>0.824413</td>\n",
       "      <td>0.654259</td>\n",
       "      <td>0.723230</td>\n",
       "      <td>0.662253</td>\n",
       "      <td>0.741773</td>\n",
       "      <td>0.486688</td>\n",
       "      <td>...</td>\n",
       "      <td>0.510192</td>\n",
       "      <td>0.546699</td>\n",
       "      <td>0.268776</td>\n",
       "      <td>0.438280</td>\n",
       "      <td>0.276862</td>\n",
       "      <td>0.931471</td>\n",
       "      <td>0.167156</td>\n",
       "      <td>0.331816</td>\n",
       "      <td>0.047386</td>\n",
       "      <td>1</td>\n",
       "    </tr>\n",
       "    <tr>\n",
       "      <th>16824</th>\n",
       "      <td>0.662724</td>\n",
       "      <td>0.854278</td>\n",
       "      <td>0.529062</td>\n",
       "      <td>0.849064</td>\n",
       "      <td>0.691000</td>\n",
       "      <td>0.653138</td>\n",
       "      <td>0.484367</td>\n",
       "      <td>0.659301</td>\n",
       "      <td>0.507391</td>\n",
       "      <td>0.483480</td>\n",
       "      <td>...</td>\n",
       "      <td>0.508975</td>\n",
       "      <td>0.227023</td>\n",
       "      <td>0.265978</td>\n",
       "      <td>0.326165</td>\n",
       "      <td>0.272680</td>\n",
       "      <td>0.388823</td>\n",
       "      <td>0.073849</td>\n",
       "      <td>0.980171</td>\n",
       "      <td>0.089500</td>\n",
       "      <td>1</td>\n",
       "    </tr>\n",
       "    <tr>\n",
       "      <th>16825</th>\n",
       "      <td>0.604562</td>\n",
       "      <td>0.856166</td>\n",
       "      <td>0.502824</td>\n",
       "      <td>0.850241</td>\n",
       "      <td>0.522665</td>\n",
       "      <td>0.646558</td>\n",
       "      <td>0.452364</td>\n",
       "      <td>0.659111</td>\n",
       "      <td>0.420772</td>\n",
       "      <td>0.486152</td>\n",
       "      <td>...</td>\n",
       "      <td>0.505944</td>\n",
       "      <td>0.261415</td>\n",
       "      <td>0.258612</td>\n",
       "      <td>0.336639</td>\n",
       "      <td>0.269315</td>\n",
       "      <td>0.353861</td>\n",
       "      <td>0.032283</td>\n",
       "      <td>0.871002</td>\n",
       "      <td>0.104252</td>\n",
       "      <td>1</td>\n",
       "    </tr>\n",
       "    <tr>\n",
       "      <th>16826</th>\n",
       "      <td>0.721278</td>\n",
       "      <td>0.860698</td>\n",
       "      <td>0.540100</td>\n",
       "      <td>0.856338</td>\n",
       "      <td>0.669188</td>\n",
       "      <td>0.661332</td>\n",
       "      <td>0.469216</td>\n",
       "      <td>0.683339</td>\n",
       "      <td>0.445735</td>\n",
       "      <td>0.498304</td>\n",
       "      <td>...</td>\n",
       "      <td>0.508358</td>\n",
       "      <td>0.266613</td>\n",
       "      <td>0.259216</td>\n",
       "      <td>0.321320</td>\n",
       "      <td>0.279776</td>\n",
       "      <td>0.427773</td>\n",
       "      <td>0.029615</td>\n",
       "      <td>0.850608</td>\n",
       "      <td>0.105435</td>\n",
       "      <td>1</td>\n",
       "    </tr>\n",
       "  </tbody>\n",
       "</table>\n",
       "<p>5 rows × 25 columns</p>\n",
       "</div>"
      ],
      "text/plain": [
       "       LEFT_SHOULDER_x  LEFT_SHOULDER_y  RIGHT_SHOULDER_x  RIGHT_SHOULDER_y   \n",
       "16822         0.949235         0.855545          0.838653          0.848690  \\\n",
       "16823         0.769955         0.856092          0.713916          0.850601   \n",
       "16824         0.662724         0.854278          0.529062          0.849064   \n",
       "16825         0.604562         0.856166          0.502824          0.850241   \n",
       "16826         0.721278         0.860698          0.540100          0.856338   \n",
       "\n",
       "       LEFT_ELBOW_x  LEFT_ELBOW_y  RIGHT_ELBOW_x  RIGHT_ELBOW_y  LEFT_WRIST_x   \n",
       "16822      1.000000      0.653444       0.834492       0.662607      0.948844  \\\n",
       "16823      0.824413      0.654259       0.723230       0.662253      0.741773   \n",
       "16824      0.691000      0.653138       0.484367       0.659301      0.507391   \n",
       "16825      0.522665      0.646558       0.452364       0.659111      0.420772   \n",
       "16826      0.669188      0.661332       0.469216       0.683339      0.445735   \n",
       "\n",
       "       LEFT_WRIST_y  ...  RIGHT_HIP_y  LEFT_KNEE_x  LEFT_KNEE_y  RIGHT_KNEE_x   \n",
       "16822      0.482841  ...     0.509713     0.420640     0.276058      0.703022  \\\n",
       "16823      0.486688  ...     0.510192     0.546699     0.268776      0.438280   \n",
       "16824      0.483480  ...     0.508975     0.227023     0.265978      0.326165   \n",
       "16825      0.486152  ...     0.505944     0.261415     0.258612      0.336639   \n",
       "16826      0.498304  ...     0.508358     0.266613     0.259216      0.321320   \n",
       "\n",
       "       RIGHT_KNEE_y  LEFT_ANKLE_x  LEFT_ANKLE_y  RIGHT_ANKLE_x  RIGHT_ANKLE_y   \n",
       "16822      0.276338      0.337730      0.031708       0.767527       0.085185  \\\n",
       "16823      0.276862      0.931471      0.167156       0.331816       0.047386   \n",
       "16824      0.272680      0.388823      0.073849       0.980171       0.089500   \n",
       "16825      0.269315      0.353861      0.032283       0.871002       0.104252   \n",
       "16826      0.279776      0.427773      0.029615       0.850608       0.105435   \n",
       "\n",
       "       Encoded_label  \n",
       "16822              1  \n",
       "16823              1  \n",
       "16824              1  \n",
       "16825              1  \n",
       "16826              1  \n",
       "\n",
       "[5 rows x 25 columns]"
      ]
     },
     "execution_count": 20,
     "metadata": {},
     "output_type": "execute_result"
    }
   ],
   "source": [
    "le = preprocessing.LabelEncoder()\n",
    "training_data[\"Encoded_label\"] = le.fit_transform(training_data[\"label\"])\n",
    "training_data.drop(unneeded_data, axis=1, inplace=True)\n",
    "training_data.head()"
   ]
  },
  {
   "cell_type": "code",
   "execution_count": 21,
   "metadata": {},
   "outputs": [
    {
     "data": {
      "text/plain": [
       "array(['running', 'walking'], dtype=object)"
      ]
     },
     "execution_count": 21,
     "metadata": {},
     "output_type": "execute_result"
    }
   ],
   "source": [
    "le.classes_"
   ]
  },
  {
   "cell_type": "code",
   "execution_count": 22,
   "metadata": {},
   "outputs": [
    {
     "data": {
      "text/plain": [
       "array([0, 1])"
      ]
     },
     "execution_count": 22,
     "metadata": {},
     "output_type": "execute_result"
    }
   ],
   "source": [
    "le.transform(le.classes_)"
   ]
  },
  {
   "cell_type": "code",
   "execution_count": 23,
   "metadata": {},
   "outputs": [],
   "source": [
    "X, y = training_data.iloc[:, :-1],  training_data[\"Encoded_label\"]\n",
    "X_train, X_test, y_train, y_test = train_test_split(X, y)"
   ]
  },
  {
   "cell_type": "code",
   "execution_count": 24,
   "metadata": {},
   "outputs": [
    {
     "name": "stdout",
     "output_type": "stream",
     "text": [
      "(28941, 24)\n"
     ]
    },
    {
     "data": {
      "text/html": [
       "<div>\n",
       "<style scoped>\n",
       "    .dataframe tbody tr th:only-of-type {\n",
       "        vertical-align: middle;\n",
       "    }\n",
       "\n",
       "    .dataframe tbody tr th {\n",
       "        vertical-align: top;\n",
       "    }\n",
       "\n",
       "    .dataframe thead th {\n",
       "        text-align: right;\n",
       "    }\n",
       "</style>\n",
       "<table border=\"1\" class=\"dataframe\">\n",
       "  <thead>\n",
       "    <tr style=\"text-align: right;\">\n",
       "      <th></th>\n",
       "      <th>LEFT_SHOULDER_x</th>\n",
       "      <th>LEFT_SHOULDER_y</th>\n",
       "      <th>RIGHT_SHOULDER_x</th>\n",
       "      <th>RIGHT_SHOULDER_y</th>\n",
       "      <th>LEFT_ELBOW_x</th>\n",
       "      <th>LEFT_ELBOW_y</th>\n",
       "      <th>RIGHT_ELBOW_x</th>\n",
       "      <th>RIGHT_ELBOW_y</th>\n",
       "      <th>LEFT_WRIST_x</th>\n",
       "      <th>LEFT_WRIST_y</th>\n",
       "      <th>...</th>\n",
       "      <th>RIGHT_HIP_x</th>\n",
       "      <th>RIGHT_HIP_y</th>\n",
       "      <th>LEFT_KNEE_x</th>\n",
       "      <th>LEFT_KNEE_y</th>\n",
       "      <th>RIGHT_KNEE_x</th>\n",
       "      <th>RIGHT_KNEE_y</th>\n",
       "      <th>LEFT_ANKLE_x</th>\n",
       "      <th>LEFT_ANKLE_y</th>\n",
       "      <th>RIGHT_ANKLE_x</th>\n",
       "      <th>RIGHT_ANKLE_y</th>\n",
       "    </tr>\n",
       "  </thead>\n",
       "  <tbody>\n",
       "    <tr>\n",
       "      <th>34835</th>\n",
       "      <td>0.153789</td>\n",
       "      <td>0.835144</td>\n",
       "      <td>0.730724</td>\n",
       "      <td>0.85214</td>\n",
       "      <td>0.0</td>\n",
       "      <td>0.676602</td>\n",
       "      <td>0.930273</td>\n",
       "      <td>0.686223</td>\n",
       "      <td>0.047901</td>\n",
       "      <td>0.753047</td>\n",
       "      <td>...</td>\n",
       "      <td>0.542696</td>\n",
       "      <td>0.500606</td>\n",
       "      <td>0.429951</td>\n",
       "      <td>0.256422</td>\n",
       "      <td>0.53536</td>\n",
       "      <td>0.377569</td>\n",
       "      <td>0.744281</td>\n",
       "      <td>0.022809</td>\n",
       "      <td>0.763976</td>\n",
       "      <td>0.174986</td>\n",
       "    </tr>\n",
       "  </tbody>\n",
       "</table>\n",
       "<p>1 rows × 24 columns</p>\n",
       "</div>"
      ],
      "text/plain": [
       "       LEFT_SHOULDER_x  LEFT_SHOULDER_y  RIGHT_SHOULDER_x  RIGHT_SHOULDER_y   \n",
       "34835         0.153789         0.835144          0.730724           0.85214  \\\n",
       "\n",
       "       LEFT_ELBOW_x  LEFT_ELBOW_y  RIGHT_ELBOW_x  RIGHT_ELBOW_y  LEFT_WRIST_x   \n",
       "34835           0.0      0.676602       0.930273       0.686223      0.047901  \\\n",
       "\n",
       "       LEFT_WRIST_y  ...  RIGHT_HIP_x  RIGHT_HIP_y  LEFT_KNEE_x  LEFT_KNEE_y   \n",
       "34835      0.753047  ...     0.542696     0.500606     0.429951     0.256422  \\\n",
       "\n",
       "       RIGHT_KNEE_x  RIGHT_KNEE_y  LEFT_ANKLE_x  LEFT_ANKLE_y  RIGHT_ANKLE_x   \n",
       "34835       0.53536      0.377569      0.744281      0.022809       0.763976  \\\n",
       "\n",
       "       RIGHT_ANKLE_y  \n",
       "34835       0.174986  \n",
       "\n",
       "[1 rows x 24 columns]"
      ]
     },
     "execution_count": 24,
     "metadata": {},
     "output_type": "execute_result"
    }
   ],
   "source": [
    "print(X_train.shape)\n",
    "X_train.head(1)"
   ]
  },
  {
   "cell_type": "code",
   "execution_count": 25,
   "metadata": {},
   "outputs": [
    {
     "data": {
      "text/plain": [
       "34835    0\n",
       "18549    1\n",
       "36770    0\n",
       "38519    0\n",
       "31192    0\n",
       "        ..\n",
       "17194    1\n",
       "18811    1\n",
       "30393    0\n",
       "26972    1\n",
       "28590    0\n",
       "Name: Encoded_label, Length: 28941, dtype: int32"
      ]
     },
     "execution_count": 25,
     "metadata": {},
     "output_type": "execute_result"
    }
   ],
   "source": [
    "y_train"
   ]
  },
  {
   "cell_type": "code",
   "execution_count": 26,
   "metadata": {},
   "outputs": [],
   "source": [
    "clf = svm.SVC()"
   ]
  },
  {
   "cell_type": "code",
   "execution_count": 27,
   "metadata": {},
   "outputs": [
    {
     "data": {
      "text/html": [
       "<style>#sk-container-id-2 {color: black;background-color: white;}#sk-container-id-2 pre{padding: 0;}#sk-container-id-2 div.sk-toggleable {background-color: white;}#sk-container-id-2 label.sk-toggleable__label {cursor: pointer;display: block;width: 100%;margin-bottom: 0;padding: 0.3em;box-sizing: border-box;text-align: center;}#sk-container-id-2 label.sk-toggleable__label-arrow:before {content: \"▸\";float: left;margin-right: 0.25em;color: #696969;}#sk-container-id-2 label.sk-toggleable__label-arrow:hover:before {color: black;}#sk-container-id-2 div.sk-estimator:hover label.sk-toggleable__label-arrow:before {color: black;}#sk-container-id-2 div.sk-toggleable__content {max-height: 0;max-width: 0;overflow: hidden;text-align: left;background-color: #f0f8ff;}#sk-container-id-2 div.sk-toggleable__content pre {margin: 0.2em;color: black;border-radius: 0.25em;background-color: #f0f8ff;}#sk-container-id-2 input.sk-toggleable__control:checked~div.sk-toggleable__content {max-height: 200px;max-width: 100%;overflow: auto;}#sk-container-id-2 input.sk-toggleable__control:checked~label.sk-toggleable__label-arrow:before {content: \"▾\";}#sk-container-id-2 div.sk-estimator input.sk-toggleable__control:checked~label.sk-toggleable__label {background-color: #d4ebff;}#sk-container-id-2 div.sk-label input.sk-toggleable__control:checked~label.sk-toggleable__label {background-color: #d4ebff;}#sk-container-id-2 input.sk-hidden--visually {border: 0;clip: rect(1px 1px 1px 1px);clip: rect(1px, 1px, 1px, 1px);height: 1px;margin: -1px;overflow: hidden;padding: 0;position: absolute;width: 1px;}#sk-container-id-2 div.sk-estimator {font-family: monospace;background-color: #f0f8ff;border: 1px dotted black;border-radius: 0.25em;box-sizing: border-box;margin-bottom: 0.5em;}#sk-container-id-2 div.sk-estimator:hover {background-color: #d4ebff;}#sk-container-id-2 div.sk-parallel-item::after {content: \"\";width: 100%;border-bottom: 1px solid gray;flex-grow: 1;}#sk-container-id-2 div.sk-label:hover label.sk-toggleable__label {background-color: #d4ebff;}#sk-container-id-2 div.sk-serial::before {content: \"\";position: absolute;border-left: 1px solid gray;box-sizing: border-box;top: 0;bottom: 0;left: 50%;z-index: 0;}#sk-container-id-2 div.sk-serial {display: flex;flex-direction: column;align-items: center;background-color: white;padding-right: 0.2em;padding-left: 0.2em;position: relative;}#sk-container-id-2 div.sk-item {position: relative;z-index: 1;}#sk-container-id-2 div.sk-parallel {display: flex;align-items: stretch;justify-content: center;background-color: white;position: relative;}#sk-container-id-2 div.sk-item::before, #sk-container-id-2 div.sk-parallel-item::before {content: \"\";position: absolute;border-left: 1px solid gray;box-sizing: border-box;top: 0;bottom: 0;left: 50%;z-index: -1;}#sk-container-id-2 div.sk-parallel-item {display: flex;flex-direction: column;z-index: 1;position: relative;background-color: white;}#sk-container-id-2 div.sk-parallel-item:first-child::after {align-self: flex-end;width: 50%;}#sk-container-id-2 div.sk-parallel-item:last-child::after {align-self: flex-start;width: 50%;}#sk-container-id-2 div.sk-parallel-item:only-child::after {width: 0;}#sk-container-id-2 div.sk-dashed-wrapped {border: 1px dashed gray;margin: 0 0.4em 0.5em 0.4em;box-sizing: border-box;padding-bottom: 0.4em;background-color: white;}#sk-container-id-2 div.sk-label label {font-family: monospace;font-weight: bold;display: inline-block;line-height: 1.2em;}#sk-container-id-2 div.sk-label-container {text-align: center;}#sk-container-id-2 div.sk-container {/* jupyter's `normalize.less` sets `[hidden] { display: none; }` but bootstrap.min.css set `[hidden] { display: none !important; }` so we also need the `!important` here to be able to override the default hidden behavior on the sphinx rendered scikit-learn.org. See: https://github.com/scikit-learn/scikit-learn/issues/21755 */display: inline-block !important;position: relative;}#sk-container-id-2 div.sk-text-repr-fallback {display: none;}</style><div id=\"sk-container-id-2\" class=\"sk-top-container\"><div class=\"sk-text-repr-fallback\"><pre>SVC()</pre><b>In a Jupyter environment, please rerun this cell to show the HTML representation or trust the notebook. <br />On GitHub, the HTML representation is unable to render, please try loading this page with nbviewer.org.</b></div><div class=\"sk-container\" hidden><div class=\"sk-item\"><div class=\"sk-estimator sk-toggleable\"><input class=\"sk-toggleable__control sk-hidden--visually\" id=\"sk-estimator-id-2\" type=\"checkbox\" checked><label for=\"sk-estimator-id-2\" class=\"sk-toggleable__label sk-toggleable__label-arrow\">SVC</label><div class=\"sk-toggleable__content\"><pre>SVC()</pre></div></div></div></div></div>"
      ],
      "text/plain": [
       "SVC()"
      ]
     },
     "execution_count": 27,
     "metadata": {},
     "output_type": "execute_result"
    }
   ],
   "source": [
    "clf.fit(X_train.values, y_train.values)"
   ]
  },
  {
   "cell_type": "code",
   "execution_count": 28,
   "metadata": {},
   "outputs": [
    {
     "data": {
      "text/plain": [
       "0.9385364842454395"
      ]
     },
     "execution_count": 28,
     "metadata": {},
     "output_type": "execute_result"
    }
   ],
   "source": [
    "clf.score(X_test.values, y_test.values)"
   ]
  },
  {
   "cell_type": "code",
   "execution_count": 29,
   "metadata": {},
   "outputs": [
    {
     "data": {
      "image/png": "[encoded data removed]",
      "text/plain": [
       "<Figure size 640x480 with 2 Axes>"
      ]
     },
     "metadata": {},
     "output_type": "display_data"
    }
   ],
   "source": [
    "# code from https://www.jcchouinard.com/confusion-matrix-in-scikit-learn/\n",
    "import matplotlib.pyplot as plt\n",
    "from sklearn.metrics import ConfusionMatrixDisplay\n",
    "from sklearn.metrics import confusion_matrix\n",
    "\n",
    "y_pred = clf.predict(X_test.values)\n",
    "cm = confusion_matrix(le.inverse_transform(y_test), le.inverse_transform(y_pred), labels=le.inverse_transform(clf.classes_))\n",
    "color = 'white'\n",
    "disp = ConfusionMatrixDisplay(confusion_matrix=cm, display_labels=le.inverse_transform(clf.classes_))\n",
    "disp.plot()\n",
    "plt.show()"
   ]
  },
  {
   "attachments": {},
   "cell_type": "markdown",
   "metadata": {},
   "source": [
    "# Saving the trained model"
   ]
  },
  {
   "cell_type": "code",
   "execution_count": 30,
   "metadata": {},
   "outputs": [
    {
     "data": {
      "text/plain": [
       "['models\\\\label\\\\label_encoder.pkl']"
      ]
     },
     "execution_count": 30,
     "metadata": {},
     "output_type": "execute_result"
    }
   ],
   "source": [
    "import joblib\n",
    "from pathlib import Path\n",
    "joblib.dump(clf, str(Path('models')/'action'/'pose_action_classifier_no_jogging.pkl'))\n",
    "joblib.dump(le, str(Path('models')/'label'/'label_encoder.pkl'))"
   ]
  },
  {
   "attachments": {},
   "cell_type": "markdown",
   "metadata": {},
   "source": [
    "# loading the saved model\n",
    "```python\n",
    "# Load the model from the file\n",
    "pose_action_classifier = joblib.load('filename.pkl')\n",
    "label_encoder = joblib.load('filename2.pkl')\n",
    "\n",
    "# Use the loaded model to make predictions\n",
    "y_pred = pose_action_classifier.predict(X_test)\n",
    "action_pred = label_encoder.inverse_transform(y_pred)\n",
    "\n",
    "```"
   ]
  },
  {
   "cell_type": "code",
   "execution_count": null,
   "metadata": {},
   "outputs": [],
   "source": []
  }
 ],
 "metadata": {
  "kernelspec": {
   "display_name": "running_detection",
   "language": "python",
   "name": "python3"
  },
  "language_info": {
   "codemirror_mode": {
    "name": "ipython",
    "version": 3
   },
   "file_extension": ".py",
   "mimetype": "text/x-python",
   "name": "python",
   "nbconvert_exporter": "python",
   "pygments_lexer": "ipython3",
   "version": "3.10.11"
  },
  "orig_nbformat": 4
 },
 "nbformat": 4,
 "nbformat_minor": 2
}
