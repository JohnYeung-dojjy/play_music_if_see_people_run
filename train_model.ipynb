{
 "cells": [
  {
   "cell_type": "code",
   "execution_count": 210,
   "metadata": {},
   "outputs": [
    {
     "name": "stderr",
     "output_type": "stream",
     "text": [
      "Intel(R) Extension for Scikit-learn* enabled (https://github.com/intel/scikit-learn-intelex)\n"
     ]
    }
   ],
   "source": [
    "try:\n",
    "  from sklearnex import patch_sklearn # speed up sklearn if cpu is intel\n",
    "  patch_sklearn()\n",
    "except ImportError as sklearnex_not_installed:\n",
    "  print(\"sklearnex not installed, use default sklearn instead\")\n",
    "  print(\"if you want to use sklearn, please refer to https://pypi.org/project/scikit-learn-intelex/\")\n",
    "  \n",
    "\n",
    "from TrainingData import load_KTH\n",
    "import numpy as np\n",
    "from sklearn.model_selection import train_test_split\n",
    "from sklearn import svm, preprocessing\n",
    "from sklearn.pipeline import make_pipeline\n",
    "import pandas as pd"
   ]
  },
  {
   "cell_type": "code",
   "execution_count": 211,
   "metadata": {},
   "outputs": [
    {
     "data": {
      "text/html": [
       "<div>\n",
       "<style scoped>\n",
       "    .dataframe tbody tr th:only-of-type {\n",
       "        vertical-align: middle;\n",
       "    }\n",
       "\n",
       "    .dataframe tbody tr th {\n",
       "        vertical-align: top;\n",
       "    }\n",
       "\n",
       "    .dataframe thead th {\n",
       "        text-align: right;\n",
       "    }\n",
       "</style>\n",
       "<table border=\"1\" class=\"dataframe\">\n",
       "  <thead>\n",
       "    <tr style=\"text-align: right;\">\n",
       "      <th></th>\n",
       "      <th>filename</th>\n",
       "      <th>NOSE_x</th>\n",
       "      <th>NOSE_y</th>\n",
       "      <th>LEFT_EYE_INNER_x</th>\n",
       "      <th>LEFT_EYE_INNER_y</th>\n",
       "      <th>LEFT_EYE_x</th>\n",
       "      <th>LEFT_EYE_y</th>\n",
       "      <th>LEFT_EYE_OUTER_x</th>\n",
       "      <th>LEFT_EYE_OUTER_y</th>\n",
       "      <th>RIGHT_EYE_INNER_x</th>\n",
       "      <th>...</th>\n",
       "      <th>RIGHT_ANKLE_x</th>\n",
       "      <th>RIGHT_ANKLE_y</th>\n",
       "      <th>LEFT_HEEL_x</th>\n",
       "      <th>LEFT_HEEL_y</th>\n",
       "      <th>RIGHT_HEEL_x</th>\n",
       "      <th>RIGHT_HEEL_y</th>\n",
       "      <th>LEFT_FOOT_INDEX_x</th>\n",
       "      <th>LEFT_FOOT_INDEX_y</th>\n",
       "      <th>RIGHT_FOOT_INDEX_x</th>\n",
       "      <th>RIGHT_FOOT_INDEX_y</th>\n",
       "    </tr>\n",
       "    <tr>\n",
       "      <th>label</th>\n",
       "      <th></th>\n",
       "      <th></th>\n",
       "      <th></th>\n",
       "      <th></th>\n",
       "      <th></th>\n",
       "      <th></th>\n",
       "      <th></th>\n",
       "      <th></th>\n",
       "      <th></th>\n",
       "      <th></th>\n",
       "      <th></th>\n",
       "      <th></th>\n",
       "      <th></th>\n",
       "      <th></th>\n",
       "      <th></th>\n",
       "      <th></th>\n",
       "      <th></th>\n",
       "      <th></th>\n",
       "      <th></th>\n",
       "      <th></th>\n",
       "      <th></th>\n",
       "    </tr>\n",
       "  </thead>\n",
       "  <tbody>\n",
       "    <tr>\n",
       "      <th>running</th>\n",
       "      <td>27649</td>\n",
       "      <td>27649</td>\n",
       "      <td>27649</td>\n",
       "      <td>27649</td>\n",
       "      <td>27649</td>\n",
       "      <td>27649</td>\n",
       "      <td>27649</td>\n",
       "      <td>27649</td>\n",
       "      <td>27649</td>\n",
       "      <td>27649</td>\n",
       "      <td>...</td>\n",
       "      <td>27649</td>\n",
       "      <td>27649</td>\n",
       "      <td>27649</td>\n",
       "      <td>27649</td>\n",
       "      <td>27649</td>\n",
       "      <td>27649</td>\n",
       "      <td>27649</td>\n",
       "      <td>27649</td>\n",
       "      <td>27649</td>\n",
       "      <td>27649</td>\n",
       "    </tr>\n",
       "    <tr>\n",
       "      <th>walking</th>\n",
       "      <td>27762</td>\n",
       "      <td>27762</td>\n",
       "      <td>27762</td>\n",
       "      <td>27762</td>\n",
       "      <td>27762</td>\n",
       "      <td>27762</td>\n",
       "      <td>27762</td>\n",
       "      <td>27762</td>\n",
       "      <td>27762</td>\n",
       "      <td>27762</td>\n",
       "      <td>...</td>\n",
       "      <td>27762</td>\n",
       "      <td>27762</td>\n",
       "      <td>27762</td>\n",
       "      <td>27762</td>\n",
       "      <td>27762</td>\n",
       "      <td>27762</td>\n",
       "      <td>27762</td>\n",
       "      <td>27762</td>\n",
       "      <td>27762</td>\n",
       "      <td>27762</td>\n",
       "    </tr>\n",
       "  </tbody>\n",
       "</table>\n",
       "<p>2 rows × 67 columns</p>\n",
       "</div>"
      ],
      "text/plain": [
       "         filename  NOSE_x  NOSE_y  LEFT_EYE_INNER_x  LEFT_EYE_INNER_y   \n",
       "label                                                                   \n",
       "running     27649   27649   27649             27649             27649  \\\n",
       "walking     27762   27762   27762             27762             27762   \n",
       "\n",
       "         LEFT_EYE_x  LEFT_EYE_y  LEFT_EYE_OUTER_x  LEFT_EYE_OUTER_y   \n",
       "label                                                                 \n",
       "running       27649       27649             27649             27649  \\\n",
       "walking       27762       27762             27762             27762   \n",
       "\n",
       "         RIGHT_EYE_INNER_x  ...  RIGHT_ANKLE_x  RIGHT_ANKLE_y  LEFT_HEEL_x   \n",
       "label                       ...                                              \n",
       "running              27649  ...          27649          27649        27649  \\\n",
       "walking              27762  ...          27762          27762        27762   \n",
       "\n",
       "         LEFT_HEEL_y  RIGHT_HEEL_x  RIGHT_HEEL_y  LEFT_FOOT_INDEX_x   \n",
       "label                                                                 \n",
       "running        27649         27649         27649              27649  \\\n",
       "walking        27762         27762         27762              27762   \n",
       "\n",
       "         LEFT_FOOT_INDEX_y  RIGHT_FOOT_INDEX_x  RIGHT_FOOT_INDEX_y  \n",
       "label                                                               \n",
       "running              27649               27649               27649  \n",
       "walking              27762               27762               27762  \n",
       "\n",
       "[2 rows x 67 columns]"
      ]
     },
     "execution_count": 211,
     "metadata": {},
     "output_type": "execute_result"
    }
   ],
   "source": [
    "training_data = load_KTH()\n",
    "training_data[\"label\"] = training_data[\"label\"].apply(lambda x: \"running\" if x==\"jogging\" else x)\n",
    "training_data.groupby(\"label\").count()\n"
   ]
  },
  {
   "attachments": {},
   "cell_type": "markdown",
   "metadata": {},
   "source": [
    "<img src=\"images/Pose Landmark Model.png\"><img>\n",
    "\n",
    "from https://github.com/google/mediapipe/blob/master/docs/solutions/pose.md"
   ]
  },
  {
   "cell_type": "code",
   "execution_count": 212,
   "metadata": {},
   "outputs": [],
   "source": [
    "unneeded_data = [\"filename\", \"label\",'NOSE_x', 'NOSE_y', 'LEFT_EYE_INNER_x', 'LEFT_EYE_INNER_y',\n",
    "       'LEFT_EYE_x', 'LEFT_EYE_y', 'LEFT_EYE_OUTER_x', 'LEFT_EYE_OUTER_y',\n",
    "       'RIGHT_EYE_INNER_x', 'RIGHT_EYE_INNER_y', 'RIGHT_EYE_x', 'RIGHT_EYE_y',\n",
    "       'RIGHT_EYE_OUTER_x', 'RIGHT_EYE_OUTER_y', 'LEFT_EAR_x', 'LEFT_EAR_y',\n",
    "       'RIGHT_EAR_x', 'RIGHT_EAR_y', 'MOUTH_LEFT_x', 'MOUTH_LEFT_y',\n",
    "       'MOUTH_RIGHT_x', 'MOUTH_RIGHT_y','LEFT_PINKY_x', 'LEFT_PINKY_y',\n",
    "       'RIGHT_PINKY_x', 'RIGHT_PINKY_y', 'LEFT_INDEX_x', 'LEFT_INDEX_y',\n",
    "       'RIGHT_INDEX_x', 'RIGHT_INDEX_y', 'LEFT_THUMB_x', 'LEFT_THUMB_y',\n",
    "       'RIGHT_THUMB_x', 'RIGHT_THUMB_y','LEFT_HEEL_x', 'LEFT_HEEL_y',\n",
    "       'RIGHT_HEEL_x', 'RIGHT_HEEL_y', 'LEFT_FOOT_INDEX_x',\n",
    "       'LEFT_FOOT_INDEX_y', 'RIGHT_FOOT_INDEX_x', 'RIGHT_FOOT_INDEX_y',]"
   ]
  },
  {
   "cell_type": "code",
   "execution_count": 213,
   "metadata": {},
   "outputs": [
    {
     "data": {
      "text/html": [
       "<div>\n",
       "<style scoped>\n",
       "    .dataframe tbody tr th:only-of-type {\n",
       "        vertical-align: middle;\n",
       "    }\n",
       "\n",
       "    .dataframe tbody tr th {\n",
       "        vertical-align: top;\n",
       "    }\n",
       "\n",
       "    .dataframe thead th {\n",
       "        text-align: right;\n",
       "    }\n",
       "</style>\n",
       "<table border=\"1\" class=\"dataframe\">\n",
       "  <thead>\n",
       "    <tr style=\"text-align: right;\">\n",
       "      <th></th>\n",
       "      <th>LEFT_SHOULDER_x</th>\n",
       "      <th>LEFT_SHOULDER_y</th>\n",
       "      <th>RIGHT_SHOULDER_x</th>\n",
       "      <th>RIGHT_SHOULDER_y</th>\n",
       "      <th>LEFT_ELBOW_x</th>\n",
       "      <th>LEFT_ELBOW_y</th>\n",
       "      <th>RIGHT_ELBOW_x</th>\n",
       "      <th>RIGHT_ELBOW_y</th>\n",
       "      <th>LEFT_WRIST_x</th>\n",
       "      <th>LEFT_WRIST_y</th>\n",
       "      <th>...</th>\n",
       "      <th>RIGHT_HIP_y</th>\n",
       "      <th>LEFT_KNEE_x</th>\n",
       "      <th>LEFT_KNEE_y</th>\n",
       "      <th>RIGHT_KNEE_x</th>\n",
       "      <th>RIGHT_KNEE_y</th>\n",
       "      <th>LEFT_ANKLE_x</th>\n",
       "      <th>LEFT_ANKLE_y</th>\n",
       "      <th>RIGHT_ANKLE_x</th>\n",
       "      <th>RIGHT_ANKLE_y</th>\n",
       "      <th>Encoded_label</th>\n",
       "    </tr>\n",
       "  </thead>\n",
       "  <tbody>\n",
       "    <tr>\n",
       "      <th>0</th>\n",
       "      <td>0.661767</td>\n",
       "      <td>0.849883</td>\n",
       "      <td>0.596500</td>\n",
       "      <td>0.858983</td>\n",
       "      <td>0.853274</td>\n",
       "      <td>0.687178</td>\n",
       "      <td>0.602127</td>\n",
       "      <td>0.710731</td>\n",
       "      <td>0.423706</td>\n",
       "      <td>0.671967</td>\n",
       "      <td>...</td>\n",
       "      <td>0.504340</td>\n",
       "      <td>0.682258</td>\n",
       "      <td>0.324143</td>\n",
       "      <td>0.401035</td>\n",
       "      <td>0.300068</td>\n",
       "      <td>0.926108</td>\n",
       "      <td>0.176288</td>\n",
       "      <td>0.318781</td>\n",
       "      <td>0.048532</td>\n",
       "      <td>0</td>\n",
       "    </tr>\n",
       "    <tr>\n",
       "      <th>1</th>\n",
       "      <td>0.485875</td>\n",
       "      <td>0.849842</td>\n",
       "      <td>0.444929</td>\n",
       "      <td>0.860103</td>\n",
       "      <td>0.649157</td>\n",
       "      <td>0.672558</td>\n",
       "      <td>0.531414</td>\n",
       "      <td>0.688963</td>\n",
       "      <td>0.266280</td>\n",
       "      <td>0.680365</td>\n",
       "      <td>...</td>\n",
       "      <td>0.501957</td>\n",
       "      <td>0.188259</td>\n",
       "      <td>0.280406</td>\n",
       "      <td>0.428189</td>\n",
       "      <td>0.282820</td>\n",
       "      <td>0.307078</td>\n",
       "      <td>0.047746</td>\n",
       "      <td>0.895301</td>\n",
       "      <td>0.116373</td>\n",
       "      <td>0</td>\n",
       "    </tr>\n",
       "    <tr>\n",
       "      <th>2</th>\n",
       "      <td>0.437808</td>\n",
       "      <td>0.856407</td>\n",
       "      <td>0.298377</td>\n",
       "      <td>0.863216</td>\n",
       "      <td>0.541440</td>\n",
       "      <td>0.665984</td>\n",
       "      <td>0.302727</td>\n",
       "      <td>0.685577</td>\n",
       "      <td>0.119054</td>\n",
       "      <td>0.688653</td>\n",
       "      <td>...</td>\n",
       "      <td>0.510568</td>\n",
       "      <td>0.070149</td>\n",
       "      <td>0.279658</td>\n",
       "      <td>0.336988</td>\n",
       "      <td>0.283900</td>\n",
       "      <td>0.328662</td>\n",
       "      <td>0.043458</td>\n",
       "      <td>0.900703</td>\n",
       "      <td>0.124583</td>\n",
       "      <td>0</td>\n",
       "    </tr>\n",
       "    <tr>\n",
       "      <th>3</th>\n",
       "      <td>0.432968</td>\n",
       "      <td>0.852602</td>\n",
       "      <td>0.350171</td>\n",
       "      <td>0.858269</td>\n",
       "      <td>0.382385</td>\n",
       "      <td>0.670727</td>\n",
       "      <td>0.332168</td>\n",
       "      <td>0.685734</td>\n",
       "      <td>0.108216</td>\n",
       "      <td>0.691918</td>\n",
       "      <td>...</td>\n",
       "      <td>0.505469</td>\n",
       "      <td>0.212389</td>\n",
       "      <td>0.263870</td>\n",
       "      <td>0.341090</td>\n",
       "      <td>0.278414</td>\n",
       "      <td>0.503191</td>\n",
       "      <td>0.040660</td>\n",
       "      <td>0.902734</td>\n",
       "      <td>0.123357</td>\n",
       "      <td>0</td>\n",
       "    </tr>\n",
       "    <tr>\n",
       "      <th>4</th>\n",
       "      <td>0.520244</td>\n",
       "      <td>0.853186</td>\n",
       "      <td>0.472136</td>\n",
       "      <td>0.858842</td>\n",
       "      <td>0.482407</td>\n",
       "      <td>0.669985</td>\n",
       "      <td>0.470479</td>\n",
       "      <td>0.688985</td>\n",
       "      <td>0.112292</td>\n",
       "      <td>0.702485</td>\n",
       "      <td>...</td>\n",
       "      <td>0.505794</td>\n",
       "      <td>0.328978</td>\n",
       "      <td>0.260767</td>\n",
       "      <td>0.316714</td>\n",
       "      <td>0.280446</td>\n",
       "      <td>0.801016</td>\n",
       "      <td>0.047109</td>\n",
       "      <td>0.849891</td>\n",
       "      <td>0.120582</td>\n",
       "      <td>0</td>\n",
       "    </tr>\n",
       "  </tbody>\n",
       "</table>\n",
       "<p>5 rows × 25 columns</p>\n",
       "</div>"
      ],
      "text/plain": [
       "   LEFT_SHOULDER_x  LEFT_SHOULDER_y  RIGHT_SHOULDER_x  RIGHT_SHOULDER_y   \n",
       "0         0.661767         0.849883          0.596500          0.858983  \\\n",
       "1         0.485875         0.849842          0.444929          0.860103   \n",
       "2         0.437808         0.856407          0.298377          0.863216   \n",
       "3         0.432968         0.852602          0.350171          0.858269   \n",
       "4         0.520244         0.853186          0.472136          0.858842   \n",
       "\n",
       "   LEFT_ELBOW_x  LEFT_ELBOW_y  RIGHT_ELBOW_x  RIGHT_ELBOW_y  LEFT_WRIST_x   \n",
       "0      0.853274      0.687178       0.602127       0.710731      0.423706  \\\n",
       "1      0.649157      0.672558       0.531414       0.688963      0.266280   \n",
       "2      0.541440      0.665984       0.302727       0.685577      0.119054   \n",
       "3      0.382385      0.670727       0.332168       0.685734      0.108216   \n",
       "4      0.482407      0.669985       0.470479       0.688985      0.112292   \n",
       "\n",
       "   LEFT_WRIST_y  ...  RIGHT_HIP_y  LEFT_KNEE_x  LEFT_KNEE_y  RIGHT_KNEE_x   \n",
       "0      0.671967  ...     0.504340     0.682258     0.324143      0.401035  \\\n",
       "1      0.680365  ...     0.501957     0.188259     0.280406      0.428189   \n",
       "2      0.688653  ...     0.510568     0.070149     0.279658      0.336988   \n",
       "3      0.691918  ...     0.505469     0.212389     0.263870      0.341090   \n",
       "4      0.702485  ...     0.505794     0.328978     0.260767      0.316714   \n",
       "\n",
       "   RIGHT_KNEE_y  LEFT_ANKLE_x  LEFT_ANKLE_y  RIGHT_ANKLE_x  RIGHT_ANKLE_y   \n",
       "0      0.300068      0.926108      0.176288       0.318781       0.048532  \\\n",
       "1      0.282820      0.307078      0.047746       0.895301       0.116373   \n",
       "2      0.283900      0.328662      0.043458       0.900703       0.124583   \n",
       "3      0.278414      0.503191      0.040660       0.902734       0.123357   \n",
       "4      0.280446      0.801016      0.047109       0.849891       0.120582   \n",
       "\n",
       "   Encoded_label  \n",
       "0              0  \n",
       "1              0  \n",
       "2              0  \n",
       "3              0  \n",
       "4              0  \n",
       "\n",
       "[5 rows x 25 columns]"
      ]
     },
     "execution_count": 213,
     "metadata": {},
     "output_type": "execute_result"
    }
   ],
   "source": [
    "le = preprocessing.LabelEncoder()\n",
    "training_data[\"Encoded_label\"] = le.fit_transform(training_data[\"label\"])\n",
    "training_data.drop(unneeded_data, axis=1, inplace=True)\n",
    "training_data.head()"
   ]
  },
  {
   "cell_type": "code",
   "execution_count": 214,
   "metadata": {},
   "outputs": [
    {
     "data": {
      "text/plain": [
       "array(['running', 'walking'], dtype=object)"
      ]
     },
     "execution_count": 214,
     "metadata": {},
     "output_type": "execute_result"
    }
   ],
   "source": [
    "le.classes_"
   ]
  },
  {
   "cell_type": "code",
   "execution_count": 215,
   "metadata": {},
   "outputs": [
    {
     "data": {
      "text/plain": [
       "array([0, 1])"
      ]
     },
     "execution_count": 215,
     "metadata": {},
     "output_type": "execute_result"
    }
   ],
   "source": [
    "le.transform(le.classes_)"
   ]
  },
  {
   "cell_type": "code",
   "execution_count": 216,
   "metadata": {},
   "outputs": [],
   "source": [
    "X, y = training_data.iloc[:, :-1],  training_data[\"Encoded_label\"]\n",
    "X_train, X_test, y_train, y_test = train_test_split(X, y)"
   ]
  },
  {
   "cell_type": "code",
   "execution_count": 217,
   "metadata": {},
   "outputs": [
    {
     "name": "stdout",
     "output_type": "stream",
     "text": [
      "(41558, 24)\n"
     ]
    },
    {
     "data": {
      "text/html": [
       "<div>\n",
       "<style scoped>\n",
       "    .dataframe tbody tr th:only-of-type {\n",
       "        vertical-align: middle;\n",
       "    }\n",
       "\n",
       "    .dataframe tbody tr th {\n",
       "        vertical-align: top;\n",
       "    }\n",
       "\n",
       "    .dataframe thead th {\n",
       "        text-align: right;\n",
       "    }\n",
       "</style>\n",
       "<table border=\"1\" class=\"dataframe\">\n",
       "  <thead>\n",
       "    <tr style=\"text-align: right;\">\n",
       "      <th></th>\n",
       "      <th>LEFT_SHOULDER_x</th>\n",
       "      <th>LEFT_SHOULDER_y</th>\n",
       "      <th>RIGHT_SHOULDER_x</th>\n",
       "      <th>RIGHT_SHOULDER_y</th>\n",
       "      <th>LEFT_ELBOW_x</th>\n",
       "      <th>LEFT_ELBOW_y</th>\n",
       "      <th>RIGHT_ELBOW_x</th>\n",
       "      <th>RIGHT_ELBOW_y</th>\n",
       "      <th>LEFT_WRIST_x</th>\n",
       "      <th>LEFT_WRIST_y</th>\n",
       "      <th>...</th>\n",
       "      <th>RIGHT_HIP_x</th>\n",
       "      <th>RIGHT_HIP_y</th>\n",
       "      <th>LEFT_KNEE_x</th>\n",
       "      <th>LEFT_KNEE_y</th>\n",
       "      <th>RIGHT_KNEE_x</th>\n",
       "      <th>RIGHT_KNEE_y</th>\n",
       "      <th>LEFT_ANKLE_x</th>\n",
       "      <th>LEFT_ANKLE_y</th>\n",
       "      <th>RIGHT_ANKLE_x</th>\n",
       "      <th>RIGHT_ANKLE_y</th>\n",
       "    </tr>\n",
       "  </thead>\n",
       "  <tbody>\n",
       "    <tr>\n",
       "      <th>34386</th>\n",
       "      <td>0.670246</td>\n",
       "      <td>0.851905</td>\n",
       "      <td>0.136824</td>\n",
       "      <td>0.836863</td>\n",
       "      <td>0.8063</td>\n",
       "      <td>0.704529</td>\n",
       "      <td>0.063919</td>\n",
       "      <td>0.662318</td>\n",
       "      <td>0.935097</td>\n",
       "      <td>0.599318</td>\n",
       "      <td>...</td>\n",
       "      <td>0.333688</td>\n",
       "      <td>0.525724</td>\n",
       "      <td>0.568148</td>\n",
       "      <td>0.29501</td>\n",
       "      <td>0.50057</td>\n",
       "      <td>0.301714</td>\n",
       "      <td>0.490722</td>\n",
       "      <td>0.093987</td>\n",
       "      <td>0.369958</td>\n",
       "      <td>0.102849</td>\n",
       "    </tr>\n",
       "  </tbody>\n",
       "</table>\n",
       "<p>1 rows × 24 columns</p>\n",
       "</div>"
      ],
      "text/plain": [
       "       LEFT_SHOULDER_x  LEFT_SHOULDER_y  RIGHT_SHOULDER_x  RIGHT_SHOULDER_y   \n",
       "34386         0.670246         0.851905          0.136824          0.836863  \\\n",
       "\n",
       "       LEFT_ELBOW_x  LEFT_ELBOW_y  RIGHT_ELBOW_x  RIGHT_ELBOW_y  LEFT_WRIST_x   \n",
       "34386        0.8063      0.704529       0.063919       0.662318      0.935097  \\\n",
       "\n",
       "       LEFT_WRIST_y  ...  RIGHT_HIP_x  RIGHT_HIP_y  LEFT_KNEE_x  LEFT_KNEE_y   \n",
       "34386      0.599318  ...     0.333688     0.525724     0.568148      0.29501  \\\n",
       "\n",
       "       RIGHT_KNEE_x  RIGHT_KNEE_y  LEFT_ANKLE_x  LEFT_ANKLE_y  RIGHT_ANKLE_x   \n",
       "34386       0.50057      0.301714      0.490722      0.093987       0.369958  \\\n",
       "\n",
       "       RIGHT_ANKLE_y  \n",
       "34386       0.102849  \n",
       "\n",
       "[1 rows x 24 columns]"
      ]
     },
     "execution_count": 217,
     "metadata": {},
     "output_type": "execute_result"
    }
   ],
   "source": [
    "print(X_train.shape)\n",
    "X_train.head(1)"
   ]
  },
  {
   "cell_type": "code",
   "execution_count": 218,
   "metadata": {},
   "outputs": [
    {
     "data": {
      "text/plain": [
       "34386    1\n",
       "46366    0\n",
       "2950     0\n",
       "53074    0\n",
       "48501    0\n",
       "        ..\n",
       "13671    0\n",
       "16855    1\n",
       "8631     0\n",
       "49787    0\n",
       "37667    1\n",
       "Name: Encoded_label, Length: 41558, dtype: int32"
      ]
     },
     "execution_count": 218,
     "metadata": {},
     "output_type": "execute_result"
    }
   ],
   "source": [
    "y_train"
   ]
  },
  {
   "cell_type": "code",
   "execution_count": 219,
   "metadata": {},
   "outputs": [],
   "source": [
    "clf = svm.SVC()"
   ]
  },
  {
   "cell_type": "code",
   "execution_count": 220,
   "metadata": {},
   "outputs": [
    {
     "data": {
      "text/html": [
       "<style>#sk-container-id-20 {color: black;background-color: white;}#sk-container-id-20 pre{padding: 0;}#sk-container-id-20 div.sk-toggleable {background-color: white;}#sk-container-id-20 label.sk-toggleable__label {cursor: pointer;display: block;width: 100%;margin-bottom: 0;padding: 0.3em;box-sizing: border-box;text-align: center;}#sk-container-id-20 label.sk-toggleable__label-arrow:before {content: \"▸\";float: left;margin-right: 0.25em;color: #696969;}#sk-container-id-20 label.sk-toggleable__label-arrow:hover:before {color: black;}#sk-container-id-20 div.sk-estimator:hover label.sk-toggleable__label-arrow:before {color: black;}#sk-container-id-20 div.sk-toggleable__content {max-height: 0;max-width: 0;overflow: hidden;text-align: left;background-color: #f0f8ff;}#sk-container-id-20 div.sk-toggleable__content pre {margin: 0.2em;color: black;border-radius: 0.25em;background-color: #f0f8ff;}#sk-container-id-20 input.sk-toggleable__control:checked~div.sk-toggleable__content {max-height: 200px;max-width: 100%;overflow: auto;}#sk-container-id-20 input.sk-toggleable__control:checked~label.sk-toggleable__label-arrow:before {content: \"▾\";}#sk-container-id-20 div.sk-estimator input.sk-toggleable__control:checked~label.sk-toggleable__label {background-color: #d4ebff;}#sk-container-id-20 div.sk-label input.sk-toggleable__control:checked~label.sk-toggleable__label {background-color: #d4ebff;}#sk-container-id-20 input.sk-hidden--visually {border: 0;clip: rect(1px 1px 1px 1px);clip: rect(1px, 1px, 1px, 1px);height: 1px;margin: -1px;overflow: hidden;padding: 0;position: absolute;width: 1px;}#sk-container-id-20 div.sk-estimator {font-family: monospace;background-color: #f0f8ff;border: 1px dotted black;border-radius: 0.25em;box-sizing: border-box;margin-bottom: 0.5em;}#sk-container-id-20 div.sk-estimator:hover {background-color: #d4ebff;}#sk-container-id-20 div.sk-parallel-item::after {content: \"\";width: 100%;border-bottom: 1px solid gray;flex-grow: 1;}#sk-container-id-20 div.sk-label:hover label.sk-toggleable__label {background-color: #d4ebff;}#sk-container-id-20 div.sk-serial::before {content: \"\";position: absolute;border-left: 1px solid gray;box-sizing: border-box;top: 0;bottom: 0;left: 50%;z-index: 0;}#sk-container-id-20 div.sk-serial {display: flex;flex-direction: column;align-items: center;background-color: white;padding-right: 0.2em;padding-left: 0.2em;position: relative;}#sk-container-id-20 div.sk-item {position: relative;z-index: 1;}#sk-container-id-20 div.sk-parallel {display: flex;align-items: stretch;justify-content: center;background-color: white;position: relative;}#sk-container-id-20 div.sk-item::before, #sk-container-id-20 div.sk-parallel-item::before {content: \"\";position: absolute;border-left: 1px solid gray;box-sizing: border-box;top: 0;bottom: 0;left: 50%;z-index: -1;}#sk-container-id-20 div.sk-parallel-item {display: flex;flex-direction: column;z-index: 1;position: relative;background-color: white;}#sk-container-id-20 div.sk-parallel-item:first-child::after {align-self: flex-end;width: 50%;}#sk-container-id-20 div.sk-parallel-item:last-child::after {align-self: flex-start;width: 50%;}#sk-container-id-20 div.sk-parallel-item:only-child::after {width: 0;}#sk-container-id-20 div.sk-dashed-wrapped {border: 1px dashed gray;margin: 0 0.4em 0.5em 0.4em;box-sizing: border-box;padding-bottom: 0.4em;background-color: white;}#sk-container-id-20 div.sk-label label {font-family: monospace;font-weight: bold;display: inline-block;line-height: 1.2em;}#sk-container-id-20 div.sk-label-container {text-align: center;}#sk-container-id-20 div.sk-container {/* jupyter's `normalize.less` sets `[hidden] { display: none; }` but bootstrap.min.css set `[hidden] { display: none !important; }` so we also need the `!important` here to be able to override the default hidden behavior on the sphinx rendered scikit-learn.org. See: https://github.com/scikit-learn/scikit-learn/issues/21755 */display: inline-block !important;position: relative;}#sk-container-id-20 div.sk-text-repr-fallback {display: none;}</style><div id=\"sk-container-id-20\" class=\"sk-top-container\"><div class=\"sk-text-repr-fallback\"><pre>SVC()</pre><b>In a Jupyter environment, please rerun this cell to show the HTML representation or trust the notebook. <br />On GitHub, the HTML representation is unable to render, please try loading this page with nbviewer.org.</b></div><div class=\"sk-container\" hidden><div class=\"sk-item\"><div class=\"sk-estimator sk-toggleable\"><input class=\"sk-toggleable__control sk-hidden--visually\" id=\"sk-estimator-id-20\" type=\"checkbox\" checked><label for=\"sk-estimator-id-20\" class=\"sk-toggleable__label sk-toggleable__label-arrow\">SVC</label><div class=\"sk-toggleable__content\"><pre>SVC()</pre></div></div></div></div></div>"
      ],
      "text/plain": [
       "SVC()"
      ]
     },
     "execution_count": 220,
     "metadata": {},
     "output_type": "execute_result"
    }
   ],
   "source": [
    "clf.fit(X_train.values, y_train.values)"
   ]
  },
  {
   "cell_type": "code",
   "execution_count": 221,
   "metadata": {},
   "outputs": [
    {
     "data": {
      "text/plain": [
       "0.9401573666353858"
      ]
     },
     "execution_count": 221,
     "metadata": {},
     "output_type": "execute_result"
    }
   ],
   "source": [
    "clf.score(X_test.values, y_test.values)"
   ]
  },
  {
   "cell_type": "code",
   "execution_count": 223,
   "metadata": {},
   "outputs": [
    {
     "data": {
      "image/png": "[encoded data removed]",
      "text/plain": [
       "<Figure size 640x480 with 2 Axes>"
      ]
     },
     "metadata": {},
     "output_type": "display_data"
    }
   ],
   "source": [
    "# code from https://www.jcchouinard.com/confusion-matrix-in-scikit-learn/\n",
    "import matplotlib.pyplot as plt\n",
    "from sklearn.metrics import ConfusionMatrixDisplay\n",
    "from sklearn.metrics import confusion_matrix\n",
    "\n",
    "y_pred = clf.predict(X_test.values)\n",
    "cm = confusion_matrix(le.inverse_transform(y_test), le.inverse_transform(y_pred), labels=le.inverse_transform(clf.classes_))\n",
    "color = 'white'\n",
    "disp = ConfusionMatrixDisplay(confusion_matrix=cm, display_labels=le.inverse_transform(clf.classes_))\n",
    "disp.plot()\n",
    "plt.show()"
   ]
  },
  {
   "attachments": {},
   "cell_type": "markdown",
   "metadata": {},
   "source": [
    "# Saving the trained model"
   ]
  },
  {
   "cell_type": "code",
   "execution_count": 227,
   "metadata": {},
   "outputs": [
    {
     "data": {
      "text/plain": [
       "['models\\\\label\\\\label_encoder.pkl']"
      ]
     },
     "execution_count": 227,
     "metadata": {},
     "output_type": "execute_result"
    }
   ],
   "source": [
    "import joblib\n",
    "from pathlib import Path\n",
    "joblib.dump(clf, str(Path('models')/'action'/'pose_action_classifier.pkl'))\n",
    "joblib.dump(le, str(Path('models')/'label'/'label_encoder.pkl'))"
   ]
  },
  {
   "attachments": {},
   "cell_type": "markdown",
   "metadata": {},
   "source": [
    "# loading the saved model\n",
    "```python\n",
    "# Load the model from the file\n",
    "pose_action_classifier = joblib.load('filename.pkl')\n",
    "label_encoder = joblib.load('filename2.pkl')\n",
    "\n",
    "# Use the loaded model to make predictions\n",
    "y_pred = pose_action_classifier.predict(X_test)\n",
    "action_pred = label_encoder.inverse_transform(y_pred)\n",
    "\n",
    "```"
   ]
  },
  {
   "cell_type": "code",
   "execution_count": null,
   "metadata": {},
   "outputs": [],
   "source": []
  }
 ],
 "metadata": {
  "kernelspec": {
   "display_name": "running_detection",
   "language": "python",
   "name": "python3"
  },
  "language_info": {
   "codemirror_mode": {
    "name": "ipython",
    "version": 3
   },
   "file_extension": ".py",
   "mimetype": "text/x-python",
   "name": "python",
   "nbconvert_exporter": "python",
   "pygments_lexer": "ipython3",
   "version": "3.10.10"
  },
  "orig_nbformat": 4
 },
 "nbformat": 4,
 "nbformat_minor": 2
}
