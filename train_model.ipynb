{
 "cells": [
  {
   "cell_type": "code",
   "execution_count": 1,
   "metadata": {},
   "outputs": [
    {
     "name": "stderr",
     "output_type": "stream",
     "text": [
      "Intel(R) Extension for Scikit-learn* enabled (https://github.com/intel/scikit-learn-intelex)\n"
     ]
    }
   ],
   "source": [
    "try:\n",
    "  from sklearnex import patch_sklearn # speed up sklearn if cpu is intel\n",
    "  patch_sklearn()\n",
    "except ImportError as sklearnex_not_installed:\n",
    "  print(\"sklearnex not installed, use default sklearn instead\")\n",
    "  print(\"if you want to use sklearn, please refer to https://pypi.org/project/scikit-learn-intelex/\")\n",
    "  \n",
    "\n",
    "from TrainingData import load_KTH\n",
    "import numpy as np\n",
    "from sklearn.model_selection import train_test_split\n",
    "from sklearn import svm, preprocessing\n",
    "from sklearn.pipeline import make_pipeline\n",
    "import pandas as pd"
   ]
  },
  {
   "cell_type": "code",
   "execution_count": 28,
   "metadata": {},
   "outputs": [
    {
     "name": "stdout",
     "output_type": "stream",
     "text": [
      "target_filename='jogging=walking'\n"
     ]
    },
    {
     "data": {
      "text/html": [
       "<div>\n",
       "<style scoped>\n",
       "    .dataframe tbody tr th:only-of-type {\n",
       "        vertical-align: middle;\n",
       "    }\n",
       "\n",
       "    .dataframe tbody tr th {\n",
       "        vertical-align: top;\n",
       "    }\n",
       "\n",
       "    .dataframe thead th {\n",
       "        text-align: right;\n",
       "    }\n",
       "</style>\n",
       "<table border=\"1\" class=\"dataframe\">\n",
       "  <thead>\n",
       "    <tr style=\"text-align: right;\">\n",
       "      <th></th>\n",
       "      <th>filename</th>\n",
       "      <th>NOSE_x</th>\n",
       "      <th>NOSE_y</th>\n",
       "      <th>LEFT_EYE_INNER_x</th>\n",
       "      <th>LEFT_EYE_INNER_y</th>\n",
       "      <th>LEFT_EYE_x</th>\n",
       "      <th>LEFT_EYE_y</th>\n",
       "      <th>LEFT_EYE_OUTER_x</th>\n",
       "      <th>LEFT_EYE_OUTER_y</th>\n",
       "      <th>RIGHT_EYE_INNER_x</th>\n",
       "      <th>...</th>\n",
       "      <th>RIGHT_ANKLE_x</th>\n",
       "      <th>RIGHT_ANKLE_y</th>\n",
       "      <th>LEFT_HEEL_x</th>\n",
       "      <th>LEFT_HEEL_y</th>\n",
       "      <th>RIGHT_HEEL_x</th>\n",
       "      <th>RIGHT_HEEL_y</th>\n",
       "      <th>LEFT_FOOT_INDEX_x</th>\n",
       "      <th>LEFT_FOOT_INDEX_y</th>\n",
       "      <th>RIGHT_FOOT_INDEX_x</th>\n",
       "      <th>RIGHT_FOOT_INDEX_y</th>\n",
       "    </tr>\n",
       "    <tr>\n",
       "      <th>label</th>\n",
       "      <th></th>\n",
       "      <th></th>\n",
       "      <th></th>\n",
       "      <th></th>\n",
       "      <th></th>\n",
       "      <th></th>\n",
       "      <th></th>\n",
       "      <th></th>\n",
       "      <th></th>\n",
       "      <th></th>\n",
       "      <th></th>\n",
       "      <th></th>\n",
       "      <th></th>\n",
       "      <th></th>\n",
       "      <th></th>\n",
       "      <th></th>\n",
       "      <th></th>\n",
       "      <th></th>\n",
       "      <th></th>\n",
       "      <th></th>\n",
       "      <th></th>\n",
       "    </tr>\n",
       "  </thead>\n",
       "  <tbody>\n",
       "    <tr>\n",
       "      <th>running</th>\n",
       "      <td>10827</td>\n",
       "      <td>10827</td>\n",
       "      <td>10827</td>\n",
       "      <td>10827</td>\n",
       "      <td>10827</td>\n",
       "      <td>10827</td>\n",
       "      <td>10827</td>\n",
       "      <td>10827</td>\n",
       "      <td>10827</td>\n",
       "      <td>10827</td>\n",
       "      <td>...</td>\n",
       "      <td>10827</td>\n",
       "      <td>10827</td>\n",
       "      <td>10827</td>\n",
       "      <td>10827</td>\n",
       "      <td>10827</td>\n",
       "      <td>10827</td>\n",
       "      <td>10827</td>\n",
       "      <td>10827</td>\n",
       "      <td>10827</td>\n",
       "      <td>10827</td>\n",
       "    </tr>\n",
       "    <tr>\n",
       "      <th>walking</th>\n",
       "      <td>44584</td>\n",
       "      <td>44584</td>\n",
       "      <td>44584</td>\n",
       "      <td>44584</td>\n",
       "      <td>44584</td>\n",
       "      <td>44584</td>\n",
       "      <td>44584</td>\n",
       "      <td>44584</td>\n",
       "      <td>44584</td>\n",
       "      <td>44584</td>\n",
       "      <td>...</td>\n",
       "      <td>44584</td>\n",
       "      <td>44584</td>\n",
       "      <td>44584</td>\n",
       "      <td>44584</td>\n",
       "      <td>44584</td>\n",
       "      <td>44584</td>\n",
       "      <td>44584</td>\n",
       "      <td>44584</td>\n",
       "      <td>44584</td>\n",
       "      <td>44584</td>\n",
       "    </tr>\n",
       "  </tbody>\n",
       "</table>\n",
       "<p>2 rows × 67 columns</p>\n",
       "</div>"
      ],
      "text/plain": [
       "         filename  NOSE_x  NOSE_y  LEFT_EYE_INNER_x  LEFT_EYE_INNER_y   \n",
       "label                                                                   \n",
       "running     10827   10827   10827             10827             10827  \\\n",
       "walking     44584   44584   44584             44584             44584   \n",
       "\n",
       "         LEFT_EYE_x  LEFT_EYE_y  LEFT_EYE_OUTER_x  LEFT_EYE_OUTER_y   \n",
       "label                                                                 \n",
       "running       10827       10827             10827             10827  \\\n",
       "walking       44584       44584             44584             44584   \n",
       "\n",
       "         RIGHT_EYE_INNER_x  ...  RIGHT_ANKLE_x  RIGHT_ANKLE_y  LEFT_HEEL_x   \n",
       "label                       ...                                              \n",
       "running              10827  ...          10827          10827        10827  \\\n",
       "walking              44584  ...          44584          44584        44584   \n",
       "\n",
       "         LEFT_HEEL_y  RIGHT_HEEL_x  RIGHT_HEEL_y  LEFT_FOOT_INDEX_x   \n",
       "label                                                                 \n",
       "running        10827         10827         10827              10827  \\\n",
       "walking        44584         44584         44584              44584   \n",
       "\n",
       "         LEFT_FOOT_INDEX_y  RIGHT_FOOT_INDEX_x  RIGHT_FOOT_INDEX_y  \n",
       "label                                                               \n",
       "running              10827               10827               10827  \n",
       "walking              44584               44584               44584  \n",
       "\n",
       "[2 rows x 67 columns]"
      ]
     },
     "execution_count": 28,
     "metadata": {},
     "output_type": "execute_result"
    }
   ],
   "source": [
    "jogging: str = \"walking\" # \"\" (empty string), \"walking\" or \"running\"\n",
    "training_data = load_KTH()\n",
    "if jogging:\n",
    "  training_data.label = training_data.label.str.replace(\"jogging\", jogging)\n",
    "  target_filename = f\"jogging={jogging}\"\n",
    "else:\n",
    "  training_data = training_data.apply(lambda row: row[training_data['label'].isin(['walking','running'])])\n",
    "  target_filename = \"no_jogging\"\n",
    "print(f\"{target_filename=}\")\n",
    "training_data.groupby('label').count()"
   ]
  },
  {
   "attachments": {},
   "cell_type": "markdown",
   "metadata": {},
   "source": [
    "<img src=\"images/Pose Landmark Model.png\"><img>\n",
    "\n",
    "from https://github.com/google/mediapipe/blob/master/docs/solutions/pose.md"
   ]
  },
  {
   "cell_type": "code",
   "execution_count": 19,
   "metadata": {},
   "outputs": [],
   "source": [
    "unneeded_data = [\"filename\", \"label\",'NOSE_x', 'NOSE_y', 'LEFT_EYE_INNER_x', 'LEFT_EYE_INNER_y',\n",
    "       'LEFT_EYE_x', 'LEFT_EYE_y', 'LEFT_EYE_OUTER_x', 'LEFT_EYE_OUTER_y',\n",
    "       'RIGHT_EYE_INNER_x', 'RIGHT_EYE_INNER_y', 'RIGHT_EYE_x', 'RIGHT_EYE_y',\n",
    "       'RIGHT_EYE_OUTER_x', 'RIGHT_EYE_OUTER_y', 'LEFT_EAR_x', 'LEFT_EAR_y',\n",
    "       'RIGHT_EAR_x', 'RIGHT_EAR_y', 'MOUTH_LEFT_x', 'MOUTH_LEFT_y',\n",
    "       'MOUTH_RIGHT_x', 'MOUTH_RIGHT_y','LEFT_PINKY_x', 'LEFT_PINKY_y',\n",
    "       'RIGHT_PINKY_x', 'RIGHT_PINKY_y', 'LEFT_INDEX_x', 'LEFT_INDEX_y',\n",
    "       'RIGHT_INDEX_x', 'RIGHT_INDEX_y', 'LEFT_THUMB_x', 'LEFT_THUMB_y',\n",
    "       'RIGHT_THUMB_x', 'RIGHT_THUMB_y','LEFT_HEEL_x', 'LEFT_HEEL_y',\n",
    "       'RIGHT_HEEL_x', 'RIGHT_HEEL_y', 'LEFT_FOOT_INDEX_x',\n",
    "       'LEFT_FOOT_INDEX_y', 'RIGHT_FOOT_INDEX_x', 'RIGHT_FOOT_INDEX_y',]"
   ]
  },
  {
   "cell_type": "code",
   "execution_count": 20,
   "metadata": {},
   "outputs": [
    {
     "data": {
      "text/html": [
       "<div>\n",
       "<style scoped>\n",
       "    .dataframe tbody tr th:only-of-type {\n",
       "        vertical-align: middle;\n",
       "    }\n",
       "\n",
       "    .dataframe tbody tr th {\n",
       "        vertical-align: top;\n",
       "    }\n",
       "\n",
       "    .dataframe thead th {\n",
       "        text-align: right;\n",
       "    }\n",
       "</style>\n",
       "<table border=\"1\" class=\"dataframe\">\n",
       "  <thead>\n",
       "    <tr style=\"text-align: right;\">\n",
       "      <th></th>\n",
       "      <th>LEFT_SHOULDER_x</th>\n",
       "      <th>LEFT_SHOULDER_y</th>\n",
       "      <th>RIGHT_SHOULDER_x</th>\n",
       "      <th>RIGHT_SHOULDER_y</th>\n",
       "      <th>LEFT_ELBOW_x</th>\n",
       "      <th>LEFT_ELBOW_y</th>\n",
       "      <th>RIGHT_ELBOW_x</th>\n",
       "      <th>RIGHT_ELBOW_y</th>\n",
       "      <th>LEFT_WRIST_x</th>\n",
       "      <th>LEFT_WRIST_y</th>\n",
       "      <th>...</th>\n",
       "      <th>RIGHT_HIP_y</th>\n",
       "      <th>LEFT_KNEE_x</th>\n",
       "      <th>LEFT_KNEE_y</th>\n",
       "      <th>RIGHT_KNEE_x</th>\n",
       "      <th>RIGHT_KNEE_y</th>\n",
       "      <th>LEFT_ANKLE_x</th>\n",
       "      <th>LEFT_ANKLE_y</th>\n",
       "      <th>RIGHT_ANKLE_x</th>\n",
       "      <th>RIGHT_ANKLE_y</th>\n",
       "      <th>Encoded_label</th>\n",
       "    </tr>\n",
       "  </thead>\n",
       "  <tbody>\n",
       "    <tr>\n",
       "      <th>0</th>\n",
       "      <td>0.900717</td>\n",
       "      <td>0.137010</td>\n",
       "      <td>0.812234</td>\n",
       "      <td>0.144727</td>\n",
       "      <td>0.777064</td>\n",
       "      <td>0.300874</td>\n",
       "      <td>0.755782</td>\n",
       "      <td>0.290874</td>\n",
       "      <td>0.644433</td>\n",
       "      <td>0.293516</td>\n",
       "      <td>...</td>\n",
       "      <td>0.488356</td>\n",
       "      <td>0.683099</td>\n",
       "      <td>0.549518</td>\n",
       "      <td>0.505097</td>\n",
       "      <td>0.681187</td>\n",
       "      <td>0.622896</td>\n",
       "      <td>0.738807</td>\n",
       "      <td>0.355810</td>\n",
       "      <td>0.948677</td>\n",
       "      <td>0</td>\n",
       "    </tr>\n",
       "    <tr>\n",
       "      <th>1</th>\n",
       "      <td>0.599000</td>\n",
       "      <td>0.140287</td>\n",
       "      <td>0.532054</td>\n",
       "      <td>0.140587</td>\n",
       "      <td>0.763081</td>\n",
       "      <td>0.303423</td>\n",
       "      <td>0.549853</td>\n",
       "      <td>0.310965</td>\n",
       "      <td>0.535900</td>\n",
       "      <td>0.331990</td>\n",
       "      <td>...</td>\n",
       "      <td>0.491362</td>\n",
       "      <td>0.325563</td>\n",
       "      <td>0.691165</td>\n",
       "      <td>0.753709</td>\n",
       "      <td>0.686718</td>\n",
       "      <td>0.234023</td>\n",
       "      <td>0.946797</td>\n",
       "      <td>0.945526</td>\n",
       "      <td>0.758021</td>\n",
       "      <td>0</td>\n",
       "    </tr>\n",
       "    <tr>\n",
       "      <th>2</th>\n",
       "      <td>0.492056</td>\n",
       "      <td>0.142136</td>\n",
       "      <td>0.427167</td>\n",
       "      <td>0.134636</td>\n",
       "      <td>0.708207</td>\n",
       "      <td>0.321111</td>\n",
       "      <td>0.506468</td>\n",
       "      <td>0.312526</td>\n",
       "      <td>0.403071</td>\n",
       "      <td>0.350399</td>\n",
       "      <td>...</td>\n",
       "      <td>0.489294</td>\n",
       "      <td>0.218949</td>\n",
       "      <td>0.704855</td>\n",
       "      <td>0.690588</td>\n",
       "      <td>0.697133</td>\n",
       "      <td>0.226308</td>\n",
       "      <td>0.948751</td>\n",
       "      <td>0.961872</td>\n",
       "      <td>0.739383</td>\n",
       "      <td>0</td>\n",
       "    </tr>\n",
       "    <tr>\n",
       "      <th>3</th>\n",
       "      <td>0.302859</td>\n",
       "      <td>0.153922</td>\n",
       "      <td>0.257023</td>\n",
       "      <td>0.141345</td>\n",
       "      <td>0.481572</td>\n",
       "      <td>0.350691</td>\n",
       "      <td>0.354167</td>\n",
       "      <td>0.322818</td>\n",
       "      <td>0.129033</td>\n",
       "      <td>0.373827</td>\n",
       "      <td>...</td>\n",
       "      <td>0.508129</td>\n",
       "      <td>0.379546</td>\n",
       "      <td>0.736556</td>\n",
       "      <td>0.128489</td>\n",
       "      <td>0.730233</td>\n",
       "      <td>0.868411</td>\n",
       "      <td>0.806285</td>\n",
       "      <td>0.230590</td>\n",
       "      <td>0.949500</td>\n",
       "      <td>0</td>\n",
       "    </tr>\n",
       "    <tr>\n",
       "      <th>4</th>\n",
       "      <td>0.360114</td>\n",
       "      <td>0.157081</td>\n",
       "      <td>0.347016</td>\n",
       "      <td>0.145569</td>\n",
       "      <td>0.386547</td>\n",
       "      <td>0.340360</td>\n",
       "      <td>0.439695</td>\n",
       "      <td>0.341934</td>\n",
       "      <td>0.083003</td>\n",
       "      <td>0.338915</td>\n",
       "      <td>...</td>\n",
       "      <td>0.485797</td>\n",
       "      <td>0.265033</td>\n",
       "      <td>0.726621</td>\n",
       "      <td>0.300380</td>\n",
       "      <td>0.704613</td>\n",
       "      <td>0.537228</td>\n",
       "      <td>0.936596</td>\n",
       "      <td>0.856375</td>\n",
       "      <td>0.759402</td>\n",
       "      <td>0</td>\n",
       "    </tr>\n",
       "  </tbody>\n",
       "</table>\n",
       "<p>5 rows × 25 columns</p>\n",
       "</div>"
      ],
      "text/plain": [
       "   LEFT_SHOULDER_x  LEFT_SHOULDER_y  RIGHT_SHOULDER_x  RIGHT_SHOULDER_y   \n",
       "0         0.900717         0.137010          0.812234          0.144727  \\\n",
       "1         0.599000         0.140287          0.532054          0.140587   \n",
       "2         0.492056         0.142136          0.427167          0.134636   \n",
       "3         0.302859         0.153922          0.257023          0.141345   \n",
       "4         0.360114         0.157081          0.347016          0.145569   \n",
       "\n",
       "   LEFT_ELBOW_x  LEFT_ELBOW_y  RIGHT_ELBOW_x  RIGHT_ELBOW_y  LEFT_WRIST_x   \n",
       "0      0.777064      0.300874       0.755782       0.290874      0.644433  \\\n",
       "1      0.763081      0.303423       0.549853       0.310965      0.535900   \n",
       "2      0.708207      0.321111       0.506468       0.312526      0.403071   \n",
       "3      0.481572      0.350691       0.354167       0.322818      0.129033   \n",
       "4      0.386547      0.340360       0.439695       0.341934      0.083003   \n",
       "\n",
       "   LEFT_WRIST_y  ...  RIGHT_HIP_y  LEFT_KNEE_x  LEFT_KNEE_y  RIGHT_KNEE_x   \n",
       "0      0.293516  ...     0.488356     0.683099     0.549518      0.505097  \\\n",
       "1      0.331990  ...     0.491362     0.325563     0.691165      0.753709   \n",
       "2      0.350399  ...     0.489294     0.218949     0.704855      0.690588   \n",
       "3      0.373827  ...     0.508129     0.379546     0.736556      0.128489   \n",
       "4      0.338915  ...     0.485797     0.265033     0.726621      0.300380   \n",
       "\n",
       "   RIGHT_KNEE_y  LEFT_ANKLE_x  LEFT_ANKLE_y  RIGHT_ANKLE_x  RIGHT_ANKLE_y   \n",
       "0      0.681187      0.622896      0.738807       0.355810       0.948677  \\\n",
       "1      0.686718      0.234023      0.946797       0.945526       0.758021   \n",
       "2      0.697133      0.226308      0.948751       0.961872       0.739383   \n",
       "3      0.730233      0.868411      0.806285       0.230590       0.949500   \n",
       "4      0.704613      0.537228      0.936596       0.856375       0.759402   \n",
       "\n",
       "   Encoded_label  \n",
       "0              0  \n",
       "1              0  \n",
       "2              0  \n",
       "3              0  \n",
       "4              0  \n",
       "\n",
       "[5 rows x 25 columns]"
      ]
     },
     "execution_count": 20,
     "metadata": {},
     "output_type": "execute_result"
    }
   ],
   "source": [
    "le = preprocessing.LabelEncoder()\n",
    "training_data['Encoded_label'] = le.fit_transform(training_data.label)\n",
    "training_data = training_data.drop(unneeded_data, axis=1)\n",
    "training_data.head()"
   ]
  },
  {
   "cell_type": "code",
   "execution_count": 21,
   "metadata": {},
   "outputs": [
    {
     "data": {
      "text/plain": [
       "(array(['running', 'walking'], dtype=object), array([0, 1]))"
      ]
     },
     "execution_count": 21,
     "metadata": {},
     "output_type": "execute_result"
    }
   ],
   "source": [
    "le.classes_, le.transform(le.classes_)"
   ]
  },
  {
   "cell_type": "code",
   "execution_count": 22,
   "metadata": {},
   "outputs": [],
   "source": [
    "X, y = training_data.iloc[:, :-1],  training_data.Encoded_label\n",
    "X_train, X_test, y_train, y_test = train_test_split(X, y)"
   ]
  },
  {
   "cell_type": "code",
   "execution_count": 23,
   "metadata": {},
   "outputs": [
    {
     "name": "stdout",
     "output_type": "stream",
     "text": [
      "(41558, 24)\n"
     ]
    },
    {
     "data": {
      "text/html": [
       "<div>\n",
       "<style scoped>\n",
       "    .dataframe tbody tr th:only-of-type {\n",
       "        vertical-align: middle;\n",
       "    }\n",
       "\n",
       "    .dataframe tbody tr th {\n",
       "        vertical-align: top;\n",
       "    }\n",
       "\n",
       "    .dataframe thead th {\n",
       "        text-align: right;\n",
       "    }\n",
       "</style>\n",
       "<table border=\"1\" class=\"dataframe\">\n",
       "  <thead>\n",
       "    <tr style=\"text-align: right;\">\n",
       "      <th></th>\n",
       "      <th>LEFT_SHOULDER_x</th>\n",
       "      <th>LEFT_SHOULDER_y</th>\n",
       "      <th>RIGHT_SHOULDER_x</th>\n",
       "      <th>RIGHT_SHOULDER_y</th>\n",
       "      <th>LEFT_ELBOW_x</th>\n",
       "      <th>LEFT_ELBOW_y</th>\n",
       "      <th>RIGHT_ELBOW_x</th>\n",
       "      <th>RIGHT_ELBOW_y</th>\n",
       "      <th>LEFT_WRIST_x</th>\n",
       "      <th>LEFT_WRIST_y</th>\n",
       "      <th>...</th>\n",
       "      <th>RIGHT_HIP_x</th>\n",
       "      <th>RIGHT_HIP_y</th>\n",
       "      <th>LEFT_KNEE_x</th>\n",
       "      <th>LEFT_KNEE_y</th>\n",
       "      <th>RIGHT_KNEE_x</th>\n",
       "      <th>RIGHT_KNEE_y</th>\n",
       "      <th>LEFT_ANKLE_x</th>\n",
       "      <th>LEFT_ANKLE_y</th>\n",
       "      <th>RIGHT_ANKLE_x</th>\n",
       "      <th>RIGHT_ANKLE_y</th>\n",
       "    </tr>\n",
       "  </thead>\n",
       "  <tbody>\n",
       "    <tr>\n",
       "      <th>9515</th>\n",
       "      <td>0.14504</td>\n",
       "      <td>0.102369</td>\n",
       "      <td>0.742764</td>\n",
       "      <td>0.106159</td>\n",
       "      <td>0.0</td>\n",
       "      <td>0.271285</td>\n",
       "      <td>1.0</td>\n",
       "      <td>0.245282</td>\n",
       "      <td>0.136986</td>\n",
       "      <td>0.326914</td>\n",
       "      <td>...</td>\n",
       "      <td>0.586363</td>\n",
       "      <td>0.456946</td>\n",
       "      <td>0.400515</td>\n",
       "      <td>0.700479</td>\n",
       "      <td>0.503034</td>\n",
       "      <td>0.68486</td>\n",
       "      <td>0.525883</td>\n",
       "      <td>0.9575</td>\n",
       "      <td>0.575503</td>\n",
       "      <td>0.945362</td>\n",
       "    </tr>\n",
       "  </tbody>\n",
       "</table>\n",
       "<p>1 rows × 24 columns</p>\n",
       "</div>"
      ],
      "text/plain": [
       "      LEFT_SHOULDER_x  LEFT_SHOULDER_y  RIGHT_SHOULDER_x  RIGHT_SHOULDER_y   \n",
       "9515          0.14504         0.102369          0.742764          0.106159  \\\n",
       "\n",
       "      LEFT_ELBOW_x  LEFT_ELBOW_y  RIGHT_ELBOW_x  RIGHT_ELBOW_y  LEFT_WRIST_x   \n",
       "9515           0.0      0.271285            1.0       0.245282      0.136986  \\\n",
       "\n",
       "      LEFT_WRIST_y  ...  RIGHT_HIP_x  RIGHT_HIP_y  LEFT_KNEE_x  LEFT_KNEE_y   \n",
       "9515      0.326914  ...     0.586363     0.456946     0.400515     0.700479  \\\n",
       "\n",
       "      RIGHT_KNEE_x  RIGHT_KNEE_y  LEFT_ANKLE_x  LEFT_ANKLE_y  RIGHT_ANKLE_x   \n",
       "9515      0.503034       0.68486      0.525883        0.9575       0.575503  \\\n",
       "\n",
       "      RIGHT_ANKLE_y  \n",
       "9515       0.945362  \n",
       "\n",
       "[1 rows x 24 columns]"
      ]
     },
     "execution_count": 23,
     "metadata": {},
     "output_type": "execute_result"
    }
   ],
   "source": [
    "print(X_train.shape)\n",
    "X_train.head(1)"
   ]
  },
  {
   "cell_type": "code",
   "execution_count": 24,
   "metadata": {},
   "outputs": [],
   "source": [
    "clf = svm.SVC()"
   ]
  },
  {
   "cell_type": "code",
   "execution_count": 25,
   "metadata": {},
   "outputs": [
    {
     "data": {
      "text/html": [
       "<style>#sk-container-id-1 {color: black;background-color: white;}#sk-container-id-1 pre{padding: 0;}#sk-container-id-1 div.sk-toggleable {background-color: white;}#sk-container-id-1 label.sk-toggleable__label {cursor: pointer;display: block;width: 100%;margin-bottom: 0;padding: 0.3em;box-sizing: border-box;text-align: center;}#sk-container-id-1 label.sk-toggleable__label-arrow:before {content: \"▸\";float: left;margin-right: 0.25em;color: #696969;}#sk-container-id-1 label.sk-toggleable__label-arrow:hover:before {color: black;}#sk-container-id-1 div.sk-estimator:hover label.sk-toggleable__label-arrow:before {color: black;}#sk-container-id-1 div.sk-toggleable__content {max-height: 0;max-width: 0;overflow: hidden;text-align: left;background-color: #f0f8ff;}#sk-container-id-1 div.sk-toggleable__content pre {margin: 0.2em;color: black;border-radius: 0.25em;background-color: #f0f8ff;}#sk-container-id-1 input.sk-toggleable__control:checked~div.sk-toggleable__content {max-height: 200px;max-width: 100%;overflow: auto;}#sk-container-id-1 input.sk-toggleable__control:checked~label.sk-toggleable__label-arrow:before {content: \"▾\";}#sk-container-id-1 div.sk-estimator input.sk-toggleable__control:checked~label.sk-toggleable__label {background-color: #d4ebff;}#sk-container-id-1 div.sk-label input.sk-toggleable__control:checked~label.sk-toggleable__label {background-color: #d4ebff;}#sk-container-id-1 input.sk-hidden--visually {border: 0;clip: rect(1px 1px 1px 1px);clip: rect(1px, 1px, 1px, 1px);height: 1px;margin: -1px;overflow: hidden;padding: 0;position: absolute;width: 1px;}#sk-container-id-1 div.sk-estimator {font-family: monospace;background-color: #f0f8ff;border: 1px dotted black;border-radius: 0.25em;box-sizing: border-box;margin-bottom: 0.5em;}#sk-container-id-1 div.sk-estimator:hover {background-color: #d4ebff;}#sk-container-id-1 div.sk-parallel-item::after {content: \"\";width: 100%;border-bottom: 1px solid gray;flex-grow: 1;}#sk-container-id-1 div.sk-label:hover label.sk-toggleable__label {background-color: #d4ebff;}#sk-container-id-1 div.sk-serial::before {content: \"\";position: absolute;border-left: 1px solid gray;box-sizing: border-box;top: 0;bottom: 0;left: 50%;z-index: 0;}#sk-container-id-1 div.sk-serial {display: flex;flex-direction: column;align-items: center;background-color: white;padding-right: 0.2em;padding-left: 0.2em;position: relative;}#sk-container-id-1 div.sk-item {position: relative;z-index: 1;}#sk-container-id-1 div.sk-parallel {display: flex;align-items: stretch;justify-content: center;background-color: white;position: relative;}#sk-container-id-1 div.sk-item::before, #sk-container-id-1 div.sk-parallel-item::before {content: \"\";position: absolute;border-left: 1px solid gray;box-sizing: border-box;top: 0;bottom: 0;left: 50%;z-index: -1;}#sk-container-id-1 div.sk-parallel-item {display: flex;flex-direction: column;z-index: 1;position: relative;background-color: white;}#sk-container-id-1 div.sk-parallel-item:first-child::after {align-self: flex-end;width: 50%;}#sk-container-id-1 div.sk-parallel-item:last-child::after {align-self: flex-start;width: 50%;}#sk-container-id-1 div.sk-parallel-item:only-child::after {width: 0;}#sk-container-id-1 div.sk-dashed-wrapped {border: 1px dashed gray;margin: 0 0.4em 0.5em 0.4em;box-sizing: border-box;padding-bottom: 0.4em;background-color: white;}#sk-container-id-1 div.sk-label label {font-family: monospace;font-weight: bold;display: inline-block;line-height: 1.2em;}#sk-container-id-1 div.sk-label-container {text-align: center;}#sk-container-id-1 div.sk-container {/* jupyter's `normalize.less` sets `[hidden] { display: none; }` but bootstrap.min.css set `[hidden] { display: none !important; }` so we also need the `!important` here to be able to override the default hidden behavior on the sphinx rendered scikit-learn.org. See: https://github.com/scikit-learn/scikit-learn/issues/21755 */display: inline-block !important;position: relative;}#sk-container-id-1 div.sk-text-repr-fallback {display: none;}</style><div id=\"sk-container-id-1\" class=\"sk-top-container\"><div class=\"sk-text-repr-fallback\"><pre>SVC()</pre><b>In a Jupyter environment, please rerun this cell to show the HTML representation or trust the notebook. <br />On GitHub, the HTML representation is unable to render, please try loading this page with nbviewer.org.</b></div><div class=\"sk-container\" hidden><div class=\"sk-item\"><div class=\"sk-estimator sk-toggleable\"><input class=\"sk-toggleable__control sk-hidden--visually\" id=\"sk-estimator-id-1\" type=\"checkbox\" checked><label for=\"sk-estimator-id-1\" class=\"sk-toggleable__label sk-toggleable__label-arrow\">SVC</label><div class=\"sk-toggleable__content\"><pre>SVC()</pre></div></div></div></div></div>"
      ],
      "text/plain": [
       "SVC()"
      ]
     },
     "execution_count": 25,
     "metadata": {},
     "output_type": "execute_result"
    }
   ],
   "source": [
    "clf.fit(X_train.values, y_train.values)"
   ]
  },
  {
   "cell_type": "code",
   "execution_count": 26,
   "metadata": {},
   "outputs": [
    {
     "data": {
      "text/plain": [
       "0.8712914170215837"
      ]
     },
     "execution_count": 26,
     "metadata": {},
     "output_type": "execute_result"
    }
   ],
   "source": [
    "clf.score(X_test.values, y_test.values)"
   ]
  },
  {
   "cell_type": "code",
   "execution_count": 27,
   "metadata": {},
   "outputs": [
    {
     "data": {
      "image/png": "[encoded data removed]",
      "text/plain": [
       "<Figure size 640x480 with 2 Axes>"
      ]
     },
     "metadata": {},
     "output_type": "display_data"
    }
   ],
   "source": [
    "# code from https://www.jcchouinard.com/confusion-matrix-in-scikit-learn/\n",
    "import matplotlib.pyplot as plt\n",
    "from sklearn.metrics import ConfusionMatrixDisplay\n",
    "from sklearn.metrics import confusion_matrix\n",
    "\n",
    "y_pred = clf.predict(X_test.values)\n",
    "cm = confusion_matrix(le.inverse_transform(y_test), le.inverse_transform(y_pred), labels=le.inverse_transform(clf.classes_))\n",
    "color = 'white'\n",
    "disp = ConfusionMatrixDisplay(confusion_matrix=cm, display_labels=le.inverse_transform(clf.classes_))\n",
    "disp.plot()\n",
    "plt.show()"
   ]
  },
  {
   "attachments": {},
   "cell_type": "markdown",
   "metadata": {},
   "source": [
    "# Saving the trained model"
   ]
  },
  {
   "cell_type": "code",
   "execution_count": 88,
   "metadata": {},
   "outputs": [],
   "source": [
    "import joblib\n",
    "from pathlib import Path\n",
    "joblib.dump(clf, str(Path('models')/'action'/f'pose_action_classifier_{target_filename}.pkl'))\n",
    "joblib.dump(le, str(Path('models')/'label'/'label_encoder.pkl'))"
   ]
  },
  {
   "attachments": {},
   "cell_type": "markdown",
   "metadata": {},
   "source": [
    "# loading the saved model\n",
    "```python\n",
    "# Load the model from the file\n",
    "pose_action_classifier = joblib.load('filename.pkl')\n",
    "label_encoder = joblib.load('filename2.pkl')\n",
    "\n",
    "# Use the loaded model to make predictions\n",
    "y_pred = pose_action_classifier.predict(X_test)\n",
    "action_pred = label_encoder.inverse_transform(y_pred)\n",
    "\n",
    "```"
   ]
  },
  {
   "cell_type": "code",
   "execution_count": null,
   "metadata": {},
   "outputs": [],
   "source": []
  }
 ],
 "metadata": {
  "kernelspec": {
   "display_name": "running_detection",
   "language": "python",
   "name": "python3"
  },
  "language_info": {
   "codemirror_mode": {
    "name": "ipython",
    "version": 3
   },
   "file_extension": ".py",
   "mimetype": "text/x-python",
   "name": "python",
   "nbconvert_exporter": "python",
   "pygments_lexer": "ipython3",
   "version": "3.10.11"
  },
  "orig_nbformat": 4
 },
 "nbformat": 4,
 "nbformat_minor": 2
}
